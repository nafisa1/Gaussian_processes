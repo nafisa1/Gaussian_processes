{
 "cells": [
  {
   "cell_type": "code",
   "execution_count": 3,
   "metadata": {
    "collapsed": false
   },
   "outputs": [
    {
     "name": "stdout",
     "output_type": "stream",
     "text": [
      "[[ 0.  ]\n",
      " [ 2.25]\n",
      " [ 4.5 ]\n",
      " [ 6.75]\n",
      " [ 9.  ]]\n"
     ]
    }
   ],
   "source": [
    "#########################################################################################################################\n",
    "# This notebook works through the construction of the squared exponential kernel, breaking down the mathematics to make #\n",
    "#                 things as simple as possible. This method uses matrix multiplication to simplify calculations.        #\n",
    "#########################################################################################################################\n",
    "\n",
    "import numpy as np\n",
    "\n",
    "# Generate the input array. Here we have values from 0 to 9, in 5 rows and two columns.\n",
    "# Let R represent a row. N will be the number of rows, and i and j will represent indices as we iterate through the rows.\n",
    "\n",
    "p = np.linspace(0, 9, 5).reshape(5, 1)\n",
    "print p"
   ]
  },
  {
   "cell_type": "code",
   "execution_count": 4,
   "metadata": {
    "collapsed": false
   },
   "outputs": [
    {
     "name": "stdout",
     "output_type": "stream",
     "text": [
      "[[  0.    ]\n",
      " [  5.0625]\n",
      " [ 20.25  ]\n",
      " [ 45.5625]\n",
      " [ 81.    ]]\n",
      "[  0.       5.0625  20.25    45.5625  81.    ]\n"
     ]
    }
   ],
   "source": [
    "# a is an array with 5 rows and 1 column. Each row contains the sum of the squares of the values in the row.\n",
    "# b is an array with one row containing the sums of squares. It is the transpose of a.\n",
    "\n",
    "a = np.sum(p ** 2, 1).reshape(-1, 1)\n",
    "b = np.sum(p ** 2, 1) \n",
    "\n",
    "# So a is a column containing the values of Ri^2, and b is a row containing the values of Ri^2.\n",
    "\n",
    "print a\n",
    "print b"
   ]
  },
  {
   "cell_type": "code",
   "execution_count": 5,
   "metadata": {
    "collapsed": false
   },
   "outputs": [
    {
     "name": "stdout",
     "output_type": "stream",
     "text": [
      "[[   0.        5.0625   20.25     45.5625   81.    ]\n",
      " [   5.0625   10.125    25.3125   50.625    86.0625]\n",
      " [  20.25     25.3125   40.5      65.8125  101.25  ]\n",
      " [  45.5625   50.625    65.8125   91.125   126.5625]\n",
      " [  81.       86.0625  101.25    126.5625  162.    ]]\n"
     ]
    }
   ],
   "source": [
    "# To add the matrices:\n",
    "# Note this is not adding in the sense of matrix addition - it would not be possible to add a and b as they do not have\n",
    "# the same shape. What is happening here is numpy 'broadcasting', transforming a and b so that they have the same size. \n",
    "# a is repeated 4 times horizontally and b is repeated 4 times underneath the original b. This gives two 5x5 matrices \n",
    "# which can be added together.\n",
    "\n",
    "print a + b\n",
    "\n",
    "# a + b is a 5x5 matrix. Along the diagonal, each value is the sum of squares of the values in the row, added to itself.\n",
    "# The off-diagonal values show the sum of squares of the values in one row added to the sum of squares for another row.\n",
    "# For example, the number in position [4,2] is the sum of squares of the fourth row added to the sum of squares of the\n",
    "# second row.\n",
    "# So the matrix values are Ri^2 + Rj^2, and i=j on the diagonal."
   ]
  },
  {
   "cell_type": "code",
   "execution_count": 6,
   "metadata": {
    "collapsed": false
   },
   "outputs": [
    {
     "name": "stdout",
     "output_type": "stream",
     "text": [
      "[[ 0.  ]\n",
      " [ 2.25]\n",
      " [ 4.5 ]\n",
      " [ 6.75]\n",
      " [ 9.  ]]\n",
      "[[ 0.    2.25  4.5   6.75  9.  ]]\n"
     ]
    }
   ],
   "source": [
    "# Let's look at the input again, and then look at the transpose of the input.\n",
    "print p\n",
    "print p.T"
   ]
  },
  {
   "cell_type": "code",
   "execution_count": 7,
   "metadata": {
    "collapsed": false
   },
   "outputs": [
    {
     "name": "stdout",
     "output_type": "stream",
     "text": [
      "[[  0.       0.       0.       0.       0.    ]\n",
      " [  0.       5.0625  10.125   15.1875  20.25  ]\n",
      " [  0.      10.125   20.25    30.375   40.5   ]\n",
      " [  0.      15.1875  30.375   45.5625  60.75  ]\n",
      " [  0.      20.25    40.5     60.75    81.    ]]\n"
     ]
    }
   ],
   "source": [
    "# Now we will take the dot product of p and its transpose, multiplying each pair of rows together. Take the first row of \n",
    "# p and the first column of p.T, multiply the pairs of values (0x0 and 1x1) and add these products together to give 1. \n",
    "# To complete the first row of the new matrix, repeat this process with the first row of p and the remaining columns of \n",
    "# p.T. Compute the remaining rows by repeating the above with each row of p and the columns of p.T.\n",
    "\n",
    "d = np.dot(p, p.T) \n",
    "print d\n",
    "\n",
    "# This gives us a 5x5 matrix with the sum of squares of each row along the diagonal. The off-diagonal numbers are the\n",
    "# result of taking the dot product of different rows. For example, the value in position [5,2], 43, is the result of \n",
    "# taking the dot product of the fifth row and the second row ((8x2)+(9x3)).\n",
    "# Therefore each matrix value is RiRj, and i=j on the diagonal."
   ]
  },
  {
   "cell_type": "code",
   "execution_count": 8,
   "metadata": {
    "collapsed": false
   },
   "outputs": [
    {
     "name": "stdout",
     "output_type": "stream",
     "text": [
      "[[  0.       5.0625  20.25    45.5625  81.    ]\n",
      " [  5.0625   0.       5.0625  20.25    45.5625]\n",
      " [ 20.25     5.0625   0.       5.0625  20.25  ]\n",
      " [ 45.5625  20.25     5.0625   0.       5.0625]\n",
      " [ 81.      45.5625  20.25     5.0625   0.    ]]\n"
     ]
    }
   ],
   "source": [
    "# Now we will form a matrix with the square of distances between each row. This means that we want (Ri - Rj)^2 (this will\n",
    "# equal zero if i=j, as we would be computing the distance of a row from itself).\n",
    "# Multiplying this out, we get Ri^2 + Rj^2 - 2RiRj.\n",
    "\n",
    "# Recall that the values in a+b represent Ri^2 + Rj^2. We obtain the squared distances by subtracting 2*d, as each value\n",
    "# in d is RiRj.\n",
    "#                       (Ri - Rj)^2 = Ri^2 + Rj^2 - 2RiRj\n",
    "#                                   =  a   +  b -    2*d\n",
    "\n",
    "sq_dist = a + b - 2*d\n",
    "print sq_dist"
   ]
  },
  {
   "cell_type": "code",
   "execution_count": 9,
   "metadata": {
    "collapsed": false
   },
   "outputs": [
    {
     "name": "stdout",
     "output_type": "stream",
     "text": [
      "[[  1.0e+000   1.0e-011   1.1e-044   1.2e-099   1.3e-176]\n",
      " [  1.0e-011   1.0e+000   1.0e-011   1.1e-044   1.2e-099]\n",
      " [  1.1e-044   1.0e-011   1.0e+000   1.0e-011   1.1e-044]\n",
      " [  1.2e-099   1.1e-044   1.0e-011   1.0e+000   1.0e-011]\n",
      " [  1.3e-176   1.2e-099   1.1e-044   1.0e-011   1.0e+000]]\n"
     ]
    }
   ],
   "source": [
    "# Our kernel is based on the squared distance. We will multiply the squared distance by a scaling factor and a negative\n",
    "# number before taking the exponential. This results in a matrix with ones along the diagonal (exp(0)), and positive \n",
    "# numbers smaller than one on the off-diagonals.\n",
    "\n",
    "cov = np.exp(-.5 * (1/0.1) * sq_dist)\n",
    "\n",
    "# Change the print options to an small number so that each row fits on the screen. This is our covariance matrix.\n",
    "# A scale factor (the output variance) usually appears before the exponential term.\n",
    "\n",
    "np.set_printoptions(precision=1)\n",
    "print cov"
   ]
  },
  {
   "cell_type": "code",
   "execution_count": null,
   "metadata": {
    "collapsed": true
   },
   "outputs": [],
   "source": []
  }
 ],
 "metadata": {
  "kernelspec": {
   "display_name": "Python 2",
   "language": "python",
   "name": "python2"
  },
  "language_info": {
   "codemirror_mode": {
    "name": "ipython",
    "version": 2
   },
   "file_extension": ".py",
   "mimetype": "text/x-python",
   "name": "python",
   "nbconvert_exporter": "python",
   "pygments_lexer": "ipython2",
   "version": "2.7.6"
  }
 },
 "nbformat": 4,
 "nbformat_minor": 0
}
