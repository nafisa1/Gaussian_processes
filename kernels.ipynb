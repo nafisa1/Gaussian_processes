{
 "cells": [
  {
   "cell_type": "code",
   "execution_count": 2,
   "metadata": {
    "collapsed": true
   },
   "outputs": [],
   "source": [
    "import numpy as np"
   ]
  },
  {
   "cell_type": "code",
   "execution_count": 3,
   "metadata": {
    "collapsed": true
   },
   "outputs": [],
   "source": [
    "class Kernel(object):\n",
    "    \n",
    "    def __init__(self, a):\n",
    "        self.a = a\n",
    "        self.b = b\n",
    "    \n",
    "    def test(self):\n",
    "        print \"Hello\"\n",
    "\n",
    "class Default_RBF(Kernel): # Delete this class once custom kernel constructed; RBF becomes default\n",
    "    def __init__(self, a):\n",
    "        self.a = a\n",
    "        self.b = b\n",
    "    \n",
    "    def compute(self):\n",
    "        print \"Default kernel\"\n",
    "\n",
    "class RBF(Kernel):\n",
    "    def __init__(self, scale_factor):\n",
    "        self.scale_factor = scale_factor\n",
    "        print \"RBF\"\n",
    "    def compute(self, a, b):\n",
    "        sq_dist = np.sum(a**2, 1).reshape(-1, 1) + np.sum(b**2, 1) - 2*np.dot(a, b.T) #square of sum of dist btwn two rows\n",
    "        return np.exp(-.5 * (1/0.1) * sq_dist)"
   ]
  },
  {
   "cell_type": "code",
   "execution_count": 5,
   "metadata": {
    "collapsed": false
   },
   "outputs": [
    {
     "name": "stdout",
     "output_type": "stream",
     "text": [
      "RBF\n"
     ]
    }
   ],
   "source": [
    "test = RBF(2)"
   ]
  },
  {
   "cell_type": "code",
   "execution_count": null,
   "metadata": {
    "collapsed": true
   },
   "outputs": [],
   "source": []
  }
 ],
 "metadata": {
  "kernelspec": {
   "display_name": "Python 2",
   "language": "python",
   "name": "python2"
  },
  "language_info": {
   "codemirror_mode": {
    "name": "ipython",
    "version": 2
   },
   "file_extension": ".py",
   "mimetype": "text/x-python",
   "name": "python",
   "nbconvert_exporter": "python",
   "pygments_lexer": "ipython2",
   "version": "2.7.6"
  }
 },
 "nbformat": 4,
 "nbformat_minor": 0
}
